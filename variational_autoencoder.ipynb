{
  "nbformat": 4,
  "nbformat_minor": 0,
  "metadata": {
    "colab": {
      "provenance": [],
      "collapsed_sections": [
        "yQEVuUc7vreI"
      ],
      "toc_visible": true,
      "machine_shape": "hm",
      "authorship_tag": "ABX9TyPBaIyvWHRKUdXihiY7kCRk",
      "include_colab_link": true
    },
    "kernelspec": {
      "name": "python3",
      "display_name": "Python 3"
    },
    "language_info": {
      "name": "python"
    },
    "gpuClass": "standard"
  },
  "cells": [
    {
      "cell_type": "markdown",
      "metadata": {
        "id": "view-in-github",
        "colab_type": "text"
      },
      "source": [
        "<a href=\"https://colab.research.google.com/github/Rodisolomon/23_spring_course/blob/main/ml_large_final.ipynb\" target=\"_parent\"><img src=\"https://colab.research.google.com/assets/colab-badge.svg\" alt=\"Open In Colab\"/></a>"
      ]
    },
    {
      "cell_type": "markdown",
      "source": [
        "# pre\n",
        "\n",
        "load data, separate into vali, test, and train set. Also load numpy arrays into dataset using TensorDataset for easier training"
      ],
      "metadata": {
        "id": "yQEVuUc7vreI"
      }
    },
    {
      "cell_type": "code",
      "execution_count": null,
      "metadata": {
        "id": "IpHFNgRNKQv1"
      },
      "outputs": [],
      "source": [
        "import os\n",
        "import time\n",
        "import pylab as py\n",
        "import torch\n",
        "import numpy as np\n",
        "\n",
        "# Torch functions\n",
        "import torch.nn as nn\n",
        "import torch.nn.functional as F\n",
        "import torch.optim as optim\n",
        "\n",
        "# Utility to track progress of a routine.\n",
        "#from tqdm import tqdm\n",
        "from tqdm.notebook import trange, tqdm\n",
        "from google.colab import drive\n",
        "import matplotlib.pyplot as plt\n",
        "\n",
        "from torch.utils.data import TensorDataset, DataLoader\n"
      ]
    },
    {
      "cell_type": "code",
      "source": [
        "import os\n",
        "# Check if you're on Google drive or on your own machine.\n",
        "# Get path to your data.\n",
        "if ('google' in str(get_ipython())):\n",
        "    from google.colab import drive\n",
        "    drive.mount('ME')\n",
        "    #predir='/content/ME/My Drive/'\n",
        "    predir='ME/My Drive/'\n",
        "else:\n",
        "    predir = os.path.join('Users','amit','Google Drive')\n",
        "    if os.path.isdir(os.path.join(predir,'My Drive')):\n",
        "            predir=os.path.join(predir,'My Drive')\n",
        "\n",
        "import torch\n",
        "import numpy as np\n",
        "\n",
        "# Torch functions\n",
        "import torch.nn as nn\n",
        "import torch.nn.functional as F\n",
        "import torch.optim as optim\n",
        "\n",
        "# Utility to track progress of a routine.\n",
        "#from tqdm import tqdm\n",
        "from tqdm.notebook import trange, tqdm\n",
        "\n",
        "# Folder with course data\n",
        "datadir=predir+'ml_large/'\n",
        "device = torch.device(\"cuda:0\" if torch.cuda.is_available() else \"cpu\")"
      ],
      "metadata": {
        "id": "6EqAEwx_K17p",
        "colab": {
          "base_uri": "https://localhost:8080/"
        },
        "outputId": "7fe75660-4199-4481-cb24-1f2f6c99a9c3"
      },
      "execution_count": null,
      "outputs": [
        {
          "output_type": "stream",
          "name": "stdout",
          "text": [
            "Mounted at ME\n"
          ]
        }
      ]
    },
    {
      "cell_type": "code",
      "source": [
        "def get_mnist():\n",
        "    data=np.float64(np.load(datadir+'MNIST_data.npy'))\n",
        "    labels=np.float32(np.load(datadir+'MNIST_labels.npy'))\n",
        "    print(data.shape)\n",
        "    data=np.float32(data)/255.\n",
        "    train_dat=data[0:55000]#.reshape((-1,1,28,28))\n",
        "    train_labels=np.int32(labels[0:55000])\n",
        "    val_dat=data[55000:60000]#.reshape((-1,1,28,28))\n",
        "    val_labels=np.int32(labels[55000:60000])\n",
        "    test_dat=data[60000:70000]#.reshape((-1,1,28,28))\n",
        "    test_labels=np.int32(labels[60000:70000])\n",
        "    comb_ds = data[:60000]\n",
        "    comb_label = np.int32(labels[:60000])\n",
        "\n",
        "    return (train_dat, train_labels), (val_dat, val_labels), (test_dat, test_labels), (comb_ds, comb_label)\n",
        "\n",
        "(X_train, y_train), (X_val, y_val), (X_test, y_test), (X_comb, y_comb) = get_mnist()\n",
        "train_ds = TensorDataset(torch.Tensor(X_train), torch.LongTensor(y_train))\n",
        "test_ds = TensorDataset(torch.Tensor(X_test), torch.LongTensor(y_test))\n",
        "val_ds = TensorDataset(torch.Tensor(X_val), torch.LongTensor(y_val))\n",
        "comb_ds = TensorDataset(torch.Tensor(X_comb), torch.LongTensor(y_comb))\n",
        "\n",
        "print(\"Training set: \", X_train.shape, y_train.shape)\n",
        "print(\"Validation set: \", X_val.shape, y_val.shape)\n",
        "print(\"Combined set: \", X_comb.shape, y_comb.shape)\n",
        "print(\"Test set: \", X_test.shape, y_test.shape)"
      ],
      "metadata": {
        "id": "_yVyIDoGK3HR",
        "colab": {
          "base_uri": "https://localhost:8080/"
        },
        "outputId": "4bc13e3e-33ac-4e6f-da40-574a53118281"
      },
      "execution_count": null,
      "outputs": [
        {
          "output_type": "stream",
          "name": "stdout",
          "text": [
            "(70000, 784)\n",
            "Training set:  (55000, 784) (55000,)\n",
            "Validation set:  (5000, 784) (5000,)\n",
            "Combined set:  (60000, 784) (60000,)\n",
            "Test set:  (10000, 784) (10000,)\n"
          ]
        }
      ]
    },
    {
      "cell_type": "markdown",
      "source": [
        "# a\n",
        "\n",
        "I choose h_dim = 200, z_dim = 20, input_dim = 784, learning_rate = .001, batch_size = 1000, epoch = 20 as the default setting."
      ],
      "metadata": {
        "id": "TcfKaQ4DvoNK"
      }
    },
    {
      "cell_type": "code",
      "source": [
        "class VAE(nn.Module): #the VAE architecture\n",
        "  def __init__(self, input_dim, hidden_dim, z_dim):\n",
        "    super().__init__()\n",
        "    self.im_hid = nn.Linear(input_dim, hidden_dim)\n",
        "    self.hid_mu = nn.Linear(hidden_dim, z_dim)\n",
        "    self.hid_sig = nn.Linear(hidden_dim, z_dim)\n",
        "\n",
        "    self.z_hid = nn.Linear(z_dim, hidden_dim)\n",
        "    self.hid_im = nn.Linear(hidden_dim, input_dim)\n",
        "\n",
        "  def encode(self, x):\n",
        "    h = F.relu(self.im_hid(x))\n",
        "    mu, sig = self.hid_mu(h), self.hid_sig(h)\n",
        "    return mu, sig\n",
        "\n",
        "  def decode(self, z):\n",
        "    h = F.relu(self.z_hid(z))\n",
        "    img = F.sigmoid(self.hid_im(h))\n",
        "    return img\n",
        "\n",
        "  def forward(self, x):\n",
        "    mu, sig = self.encode(x)\n",
        "    eps = torch.randn_like(sig)\n",
        "    new_z = mu + eps*sig\n",
        "    new_x = self.decode(new_z)\n",
        "    return new_x, mu, sig\n",
        "\n",
        "def VAE_loss(X, re_X, mu, sig):\n",
        "  return nn.BCELoss(reduction = 'sum')(re_X.view(-1, 784), X.view(-1, 784))  -   0.5 * torch.sum(1 + torch.log(sig**2) - mu**2 - sig**2)\n",
        "\n",
        "\n",
        "def VAE_train(train_ds, test_ds, vali_ds, p = True, h_dim = 200, z_dim = 20, input_dim = 784, learning_rate = .001, batch_size = 1000, epoch = 20, shuffle = True):\n",
        "  tr_loss, vali_loss  = [], []\n",
        "  model = VAE(input_dim, h_dim, z_dim).to(device)\n",
        "  optimizer = optim.Adam(model.parameters(), lr = learning_rate)\n",
        "  train_loader = DataLoader(train_ds, batch_size=batch_size, shuffle=shuffle)\n",
        "  test_loader = DataLoader(test_ds, batch_size=batch_size, shuffle=False)\n",
        "  val_loader = DataLoader(val_ds, batch_size=batch_size, shuffle=False)\n",
        "\n",
        "  if p:\n",
        "    print(\"start training...\")\n",
        "\n",
        "  for i in range(epoch):\n",
        "    train_loss = 0\n",
        "    for x, y in train_loader:\n",
        "      optimizer.zero_grad()\n",
        "      new_x, mu, sig = model(x)\n",
        "      loss = VAE_loss(x, new_x, mu, sig)\n",
        "      loss.backward()\n",
        "      train_loss += loss.item()\n",
        "      optimizer.step()\n",
        "    new_trl = train_loss/len(train_loader.dataset)\n",
        "    tr_loss.append(new_trl)\n",
        "\n",
        "    model.eval()\n",
        "    new_vl = 0\n",
        "    with torch.no_grad():\n",
        "        for x, y in val_loader:\n",
        "            new_x, mu, log_var = model(x)\n",
        "            loss = VAE_loss(x, new_x, mu, log_var)\n",
        "            new_vl += loss.item()\n",
        "    new_vl /= len(val_loader.dataset)\n",
        "    vali_loss.append(new_vl)\n",
        "    if p:\n",
        "      print('Training set epoch {}: Avg. train loss: {:.4f}, Avg. validation loss: {:.4f}'.format(i,\n",
        "    new_trl, new_vl))\n",
        "\n",
        "\n",
        "  if not os.path.isdir(os.path.join(datadir,'tmp')):\n",
        "    os.mkdir(os.path.join(datadir,'tmp'))\n",
        "  torch.save(model.state_dict(), f'{datadir}final_model.pth')\n",
        "  return model, tr_loss, vali_loss\n",
        "\n",
        "\n"
      ],
      "metadata": {
        "id": "lRTifJMnpPpf"
      },
      "execution_count": null,
      "outputs": []
    },
    {
      "cell_type": "code",
      "source": [
        "h_dim = 200\n",
        "z_dim = 10\n",
        "input_dim = 784"
      ],
      "metadata": {
        "id": "rV0dXLtlZZZu"
      },
      "execution_count": null,
      "outputs": []
    },
    {
      "cell_type": "code",
      "source": [
        "\n",
        "VAE_train(train_ds, test_ds, val_ds, h_dim = h_dim, z_dim = z_dim, input_dim = input_dim)"
      ],
      "metadata": {
        "colab": {
          "base_uri": "https://localhost:8080/"
        },
        "id": "h4mjZcP-IydP",
        "outputId": "8f06b4bf-3ca5-4f91-e340-192f936ca351"
      },
      "execution_count": null,
      "outputs": [
        {
          "output_type": "stream",
          "name": "stdout",
          "text": [
            "start training...\n",
            "Training set epoch 0: Avg. train loss: 304.3288, Avg. validation loss: 225.5858\n",
            "Training set epoch 1: Avg. train loss: 210.7421, Avg. validation loss: 201.8907\n",
            "Training set epoch 2: Avg. train loss: 184.2635, Avg. validation loss: 172.3832\n",
            "Training set epoch 3: Avg. train loss: 161.6661, Avg. validation loss: 153.7614\n",
            "Training set epoch 4: Avg. train loss: 148.5403, Avg. validation loss: 144.5235\n",
            "Training set epoch 5: Avg. train loss: 142.0430, Avg. validation loss: 139.1942\n",
            "Training set epoch 6: Avg. train loss: 137.4750, Avg. validation loss: 135.0347\n",
            "Training set epoch 7: Avg. train loss: 134.0049, Avg. validation loss: 131.9169\n",
            "Training set epoch 8: Avg. train loss: 131.4586, Avg. validation loss: 129.7313\n",
            "Training set epoch 9: Avg. train loss: 129.5712, Avg. validation loss: 127.9621\n",
            "Training set epoch 10: Avg. train loss: 127.9785, Avg. validation loss: 126.5389\n",
            "Training set epoch 11: Avg. train loss: 126.6642, Avg. validation loss: 125.3196\n",
            "Training set epoch 12: Avg. train loss: 125.5323, Avg. validation loss: 124.1870\n",
            "Training set epoch 13: Avg. train loss: 124.5553, Avg. validation loss: 123.0791\n",
            "Training set epoch 14: Avg. train loss: 123.6796, Avg. validation loss: 122.1876\n",
            "Training set epoch 15: Avg. train loss: 122.9009, Avg. validation loss: 121.5941\n",
            "Training set epoch 16: Avg. train loss: 122.2244, Avg. validation loss: 120.9243\n",
            "Training set epoch 17: Avg. train loss: 121.5861, Avg. validation loss: 120.2028\n",
            "Training set epoch 18: Avg. train loss: 121.0033, Avg. validation loss: 119.7282\n",
            "Training set epoch 19: Avg. train loss: 120.4974, Avg. validation loss: 119.2362\n"
          ]
        },
        {
          "output_type": "execute_result",
          "data": {
            "text/plain": [
              "(VAE(\n",
              "   (im_hid): Linear(in_features=784, out_features=200, bias=True)\n",
              "   (hid_mu): Linear(in_features=200, out_features=10, bias=True)\n",
              "   (hid_sig): Linear(in_features=200, out_features=10, bias=True)\n",
              "   (z_hid): Linear(in_features=10, out_features=200, bias=True)\n",
              "   (hid_im): Linear(in_features=200, out_features=784, bias=True)\n",
              " ),\n",
              " [304.32877244318183,\n",
              "  210.74213579545454,\n",
              "  184.26348977272727,\n",
              "  161.66610227272727,\n",
              "  148.54030085227274,\n",
              "  142.04301164772727,\n",
              "  137.47497329545453,\n",
              "  134.00488096590908,\n",
              "  131.4586328125,\n",
              "  129.57118792613636,\n",
              "  127.97846803977272,\n",
              "  126.66419772727272,\n",
              "  125.53225894886364,\n",
              "  124.55528579545455,\n",
              "  123.6796309659091,\n",
              "  122.90085255681818,\n",
              "  122.22435298295454,\n",
              "  121.58609630681818,\n",
              "  121.00332230113636,\n",
              "  120.49735440340909],\n",
              " [225.585834375,\n",
              "  201.89066875,\n",
              "  172.38315625,\n",
              "  153.761434375,\n",
              "  144.523459375,\n",
              "  139.194190625,\n",
              "  135.0347,\n",
              "  131.91685,\n",
              "  129.731325,\n",
              "  127.96209375,\n",
              "  126.5388859375,\n",
              "  125.31960625,\n",
              "  124.1870171875,\n",
              "  123.07908125,\n",
              "  122.1875546875,\n",
              "  121.5940984375,\n",
              "  120.9242734375,\n",
              "  120.2028421875,\n",
              "  119.728234375,\n",
              "  119.2362359375])"
            ]
          },
          "metadata": {},
          "execution_count": 67
        }
      ]
    },
    {
      "cell_type": "markdown",
      "source": [
        "# b"
      ],
      "metadata": {
        "id": "Lx9sDC33NIMc"
      }
    },
    {
      "cell_type": "code",
      "source": [
        "model = VAE(input_dim, h_dim, z_dim).to(device)\n",
        "model.load_state_dict(torch.load(f'{datadir}final_model.pth'))\n",
        "model.eval()\n",
        "\n",
        "test_loader = DataLoader(test_ds, batch_size=1000, shuffle=False)\n",
        "fig, ax = plt.subplots(2, 10)\n",
        "for i, (x, y) in enumerate(test_loader):\n",
        "  if i == 10:\n",
        "    break\n",
        "  x_re, mu, log_var = model(x) #encode and then decode\n",
        "  x, x_re = x.reshape(-1, 28, 28), x_re.detach().reshape(-1, 28, 28)\n",
        "  ax[0][i].imshow(x[i], cmap='gray')\n",
        "  ax[1][i].imshow(x_re[i], cmap='gray')\n",
        "\n",
        "plt.show()"
      ],
      "metadata": {
        "colab": {
          "base_uri": "https://localhost:8080/",
          "height": 309
        },
        "id": "-YaJN8LeNKcP",
        "outputId": "ef2704a4-5df1-4d7f-e708-287324b0085d"
      },
      "execution_count": null,
      "outputs": [
        {
          "output_type": "display_data",
          "data": {
            "text/plain": [
              "<Figure size 640x480 with 20 Axes>"
            ],
            "image/png": "[encoded data removed]"
          },
          "metadata": {}
        }
      ]
    },
    {
      "cell_type": "markdown",
      "source": [
        "#c"
      ],
      "metadata": {
        "id": "ITL1EAWCUyu_"
      }
    },
    {
      "cell_type": "code",
      "source": [
        "model.eval()\n",
        "\n",
        "fig, ax = plt.subplots(10, 10)\n",
        "for a in range(100):\n",
        "  x_re = model.decode(torch.randn(1, z_dim)).detach().numpy().reshape(-1, 28, 28) #sample from torch.randn, and then decode\n",
        "  ax[a//10][a%10].imshow(x_re[0], cmap='gray')\n",
        "\n",
        "plt.show()"
      ],
      "metadata": {
        "colab": {
          "base_uri": "https://localhost:8080/",
          "height": 435
        },
        "id": "E4Tjgzc7Uzn1",
        "outputId": "4df7060e-791d-4eee-cee9-9826b04ee720"
      },
      "execution_count": null,
      "outputs": [
        {
          "output_type": "display_data",
          "data": {
            "text/plain": [
              "<Figure size 640x480 with 100 Axes>"
            ],
            "image/png": "[encoded data removed]"
          },
          "metadata": {}
        }
      ]
    },
    {
      "cell_type": "markdown",
      "source": [
        "#d\n",
        "\n",
        "Observation: lower loss corresponding to lower FID score (FID score decrease with validation loss), which means that the re-generated image correlates well with the original data. when hidden dimension = 1024 and z dimension = 20 the validation loss is the lowest."
      ],
      "metadata": {
        "id": "V_XwOvUKXgv5"
      }
    },
    {
      "cell_type": "code",
      "source": [
        "import scipy #refer to https://www.kaggle.com/code/ibtesama/gan-in-pytorch-with-fid\n",
        "def fid_score(mu, mu_w, sig, sig_w):\n",
        "  eps=1e-6\n",
        "  dif = np.power(np.linalg.norm(mu-mu_w),  2)\n",
        "  covmean = scipy.linalg.sqrtm(sig).dot(sig_w).dot(scipy.linalg.sqrtm(sig))\n",
        "  covmean = scipy.linalg.sqrtm(covmean)\n",
        "  tr = (sig + sig_w - 2*covmean).real\n",
        "  return dif + np.trace(tr)"
      ],
      "metadata": {
        "id": "zmWXxIljphjV"
      },
      "execution_count": null,
      "outputs": []
    },
    {
      "cell_type": "code",
      "source": [
        "#differerent hidden dimension and encoded dimension\n",
        "hs = [256, 512, 1024]\n",
        "zs = [10, 20, 40]\n",
        "\n",
        "#train and test\n",
        "for h in hs:\n",
        "  for z in zs:\n",
        "    model, tr_loss, vali_loss = VAE_train(train_ds, test_ds, val_ds, p = False, h_dim = h, z_dim = z, input_dim = 784, epoch = 10)\n",
        "    model.eval()\n",
        "\n",
        "    x_re = model.decode(torch.randn(2000, z)).detach().numpy()\n",
        "    mu = np.mean(x_re, axis=0)\n",
        "    sig = np.cov(x_re, rowvar=False)\n",
        "\n",
        "    mu_w = np.mean(X_train, axis=0)\n",
        "    sig_w = np.cov(X_train, rowvar=False)\n",
        "\n",
        "    f = fid_score(mu, mu_w, sig, sig_w)\n",
        "    print(f\"we test with hidden dimension = {h} and z dimension = {z}, validation loss is {vali_loss[-1]}, FID score = {f}\")\n",
        "\n"
      ],
      "metadata": {
        "colab": {
          "base_uri": "https://localhost:8080/"
        },
        "id": "5Aj8MtWiZOFg",
        "outputId": "e6f5462f-d87b-491b-ea7c-3793fb5f50f7"
      },
      "execution_count": null,
      "outputs": [
        {
          "output_type": "stream",
          "name": "stdout",
          "text": [
            "we test with hidden dimension = 256 and z dimension = 10, validation loss is 126.0188609375, FID score = 15.593963104664775\n",
            "we test with hidden dimension = 256 and z dimension = 20, validation loss is 124.3275125, FID score = 13.54773647702656\n",
            "we test with hidden dimension = 256 and z dimension = 40, validation loss is 132.8752125, FID score = 16.329977794367277\n",
            "we test with hidden dimension = 512 and z dimension = 10, validation loss is 121.3624671875, FID score = 13.585794018650667\n",
            "we test with hidden dimension = 512 and z dimension = 20, validation loss is 117.303425, FID score = 11.500073501041358\n",
            "we test with hidden dimension = 512 and z dimension = 40, validation loss is 121.7929390625, FID score = 12.742912348626515\n",
            "we test with hidden dimension = 1024 and z dimension = 10, validation loss is 115.88844375, FID score = 12.538599894679631\n",
            "we test with hidden dimension = 1024 and z dimension = 20, validation loss is 111.054375, FID score = 9.256006843950733\n",
            "we test with hidden dimension = 1024 and z dimension = 40, validation loss is 114.3679203125, FID score = 9.452984143659812\n"
          ]
        }
      ]
    },
    {
      "cell_type": "markdown",
      "source": [
        "#f\n",
        "\n",
        "Observation: -Q will decrease as k increase and seems to converge and approach $log P(x)$ which is the lowerbound\n",
        "\n",
        "$\\lim_{{k \\to \\infty}} E_{q(z \\mid x)}[\\log \\frac{p(x,z)}{q(z | x)}] = log P(x)$\n"
      ],
      "metadata": {
        "id": "FitOOWSHD3k7"
      }
    },
    {
      "cell_type": "code",
      "source": [
        "def Q(model, x, k, mu, sig):\n",
        "  mu_ext = mu.unsqueeze(1).repeat(1,k,1)\n",
        "  sig = torch.abs(sig.unsqueeze(1).repeat(1,k,1))\n",
        "  eps_ext = torch.randn_like(sig)\n",
        "  z_ext = mu_ext + sig * eps_ext\n",
        "  x_re = model.decode(z_ext)\n",
        "  x_ext = x.unsqueeze(1).repeat(1,k,1)\n",
        "\n",
        "  log_bce = - nn.BCELoss(reduction='none')(x_re, x_ext).sum(axis=2) #numerator, gives negative log likelihood, so need a negative sign ahead\n",
        "  log_gaussian = torch.sum( torch.log(1/sig)  (z_ext - mu_ext).pow(2) / sig.pow(2) , axis=2) #denominator: gaussian\n",
        "\n",
        "  ret = log_bce - log_gaussian - torch.log(torch.tensor([k])) #transfer from division and multiplication to +- by converting to log in advanced\n",
        "\n",
        "  Q_k = torch.logsumexp(ret, dim=1)\n",
        "  Q_k_avg = torch.mean(Q_k)\n",
        "  return Q_k, Q_k_avg\n"
      ],
      "metadata": {
        "id": "BFMYOKheD6u-"
      },
      "execution_count": null,
      "outputs": []
    },
    {
      "cell_type": "code",
      "source": [
        "  h, z = 1024, 20\n",
        "  model, tr_loss, vali_loss = VAE_train(train_ds, test_ds, val_ds, p = False, h_dim = h, z_dim = z, input_dim = 784, epoch = 20)\n",
        "\n"
      ],
      "metadata": {
        "id": "PClzpzotwTHz"
      },
      "execution_count": null,
      "outputs": []
    },
    {
      "cell_type": "code",
      "source": [
        "ks = [10, 50, 100, 1000]\n",
        "qks = []\n",
        "model.eval()\n",
        "val_loader = DataLoader(val_ds, batch_size=1000, shuffle=False)\n",
        "data_iter = iter(val_loader)\n",
        "x_val, y_val = next(data_iter)\n",
        "mu, sig = model.encode(x_val)\n",
        "for k in ks:\n",
        "  Q_k, Q_k_avg = Q(model, x_val, k, mu, sig)\n",
        "  qks.append(Q_k_avg.item())\n",
        "  #print(Q_k_avg.item())\n"
      ],
      "metadata": {
        "id": "w5QdB-3grn7c"
      },
      "execution_count": null,
      "outputs": []
    },
    {
      "cell_type": "code",
      "source": [
        "plt.plot(ks, -np.array(qks))\n",
        "plt.xlabel(\"k\")\n",
        "plt.ylabel(\"-Q\")"
      ],
      "metadata": {
        "colab": {
          "base_uri": "https://localhost:8080/",
          "height": 467
        },
        "id": "QuRngSFfrzwh",
        "outputId": "b7739626-07a7-436a-9a4c-165173fde7b1"
      },
      "execution_count": null,
      "outputs": [
        {
          "output_type": "execute_result",
          "data": {
            "text/plain": [
              "Text(0, 0.5, '-Q')"
            ]
          },
          "metadata": {},
          "execution_count": 210
        },
        {
          "output_type": "display_data",
          "data": {
            "text/plain": [
              "<Figure size 640x480 with 1 Axes>"
            ],
            "image/png": "[encoded data removed]"
          },
          "metadata": {}
        }
      ]
    },
    {
      "cell_type": "markdown",
      "source": [
        "# g (SVM)\n",
        "\n",
        "comparing to the raw data, the classification on embedding data has slightly smaller accuracy rate, which might be caused by the loss of details through embedding."
      ],
      "metadata": {
        "id": "1jtvVAPGlWXU"
      }
    },
    {
      "cell_type": "code",
      "source": [
        "from sklearn import svm\n",
        "from sklearn.datasets import make_classification\n",
        "from sklearn.model_selection import train_test_split\n",
        "from sklearn.metrics import accuracy_score\n",
        "\n",
        "# Generate a synthetic classification dataset\n",
        "\n",
        "def SVC_train(X_train, y_train, X_vali, y_vali, emb=False):\n",
        "  # Create an SVC classifier\n",
        "  classifier = svm.SVC()\n",
        "\n",
        "  # Fit the classifier to the training data\n",
        "  classifier.fit(X_train, y_train)\n",
        "\n",
        "  # Predict labels for the test set\n",
        "  y_pred = classifier.predict(X_vali)\n",
        "\n",
        "  # Calculate accuracy\n",
        "  accuracy = accuracy_score(y_vali, y_pred)\n",
        "  if emb:\n",
        "    print(\"Accuracy:\", 1 - accuracy)\n",
        "  else:\n",
        "    print(\"Accuracy:\", accuracy)\n",
        "  return accuracy"
      ],
      "metadata": {
        "id": "SIC-lk7clXYC"
      },
      "execution_count": null,
      "outputs": []
    },
    {
      "cell_type": "code",
      "source": [
        "#original data without encoding\n",
        "SVC_train(X_train, y_train, X_val, y_val)"
      ],
      "metadata": {
        "colab": {
          "base_uri": "https://localhost:8080/"
        },
        "id": "BhJYCfcgNp9K",
        "outputId": "5c8dac2d-4424-4bf7-d6f4-70b161fcadeb"
      },
      "execution_count": null,
      "outputs": [
        {
          "output_type": "stream",
          "name": "stdout",
          "text": [
            "Accuracy: 0.9876\n"
          ]
        }
      ]
    },
    {
      "cell_type": "markdown",
      "source": [
        "## different size of hidden layer and architecture\n",
        "\n",
        "How representative is the embedding also affect the accuracy greatly: with better model (eg. what we concluded with dimension = 1024 and z dimension = 20), the accuracy score also is much higher"
      ],
      "metadata": {
        "id": "m1uFyN6BocXi"
      }
    },
    {
      "cell_type": "code",
      "source": [
        "#with encoding\n",
        "\n",
        "hs = [256, 512, 1024] #differnet size of hidden layer and architecture\n",
        "zs = [10, 20, 40]\n",
        "\n",
        "#train and test\n",
        "for h in hs:\n",
        "  for z in zs:\n",
        "    model, tr_loss, vali_loss = VAE_train(train_ds, test_ds, val_ds, p = False, h_dim = h, z_dim = z, input_dim = 784, epoch = 10, shuffle=False)\n",
        "    model.eval()\n",
        "    train_loader = DataLoader(train_ds, batch_size=1000, shuffle=False)\n",
        "    arr = []\n",
        "    for x, y in train_loader:\n",
        "      emb = torch.cat(model.encode(x), dim=1)\n",
        "      arr.append(emb)\n",
        "    encoded_X_train = torch.cat(arr, dim=0)\n",
        "\n",
        "    val_loader = DataLoader(val_ds, batch_size=1000, shuffle=False)\n",
        "    arr = []\n",
        "    for x, y in val_loader:\n",
        "      emb = torch.cat(model.encode(x), dim=1)\n",
        "      arr.append(emb)\n",
        "    encoded_X_val = torch.cat(arr, dim=0)\n",
        "\n",
        "    print(f\"for model of hidden dimension = {h} and z dimension = {z}...\")\n",
        "    SVC_train(encoded_X_train.detach().numpy(), y_train, encoded_X_val.detach().numpy(), y_val, False)\n",
        "\n"
      ],
      "metadata": {
        "id": "9Zq8kgrxPSpI",
        "colab": {
          "base_uri": "https://localhost:8080/"
        },
        "outputId": "c4bc36f2-867d-4efc-8fb8-38a0705ae285"
      },
      "execution_count": null,
      "outputs": [
        {
          "output_type": "stream",
          "name": "stdout",
          "text": [
            "for model of hidden dimension = 256 and z dimension = 10...\n",
            "Accuracy: 0.965\n",
            "for model of hidden dimension = 256 and z dimension = 20...\n",
            "Accuracy: 0.9764\n",
            "for model of hidden dimension = 256 and z dimension = 40...\n",
            "Accuracy: 0.9756\n",
            "for model of hidden dimension = 512 and z dimension = 10...\n",
            "Accuracy: 0.9636\n",
            "for model of hidden dimension = 512 and z dimension = 20...\n",
            "Accuracy: 0.9826\n",
            "for model of hidden dimension = 512 and z dimension = 40...\n",
            "Accuracy: 0.9842\n",
            "for model of hidden dimension = 1024 and z dimension = 10...\n",
            "Accuracy: 0.9682\n",
            "for model of hidden dimension = 1024 and z dimension = 20...\n",
            "Accuracy: 0.9862\n",
            "for model of hidden dimension = 1024 and z dimension = 40...\n",
            "Accuracy: 0.988\n"
          ]
        }
      ]
    },
    {
      "cell_type": "code",
      "source": [
        "print(encoded_X_train.detach().numpy().shape, y_train.shape)"
      ],
      "metadata": {
        "colab": {
          "base_uri": "https://localhost:8080/"
        },
        "id": "r7x1rIaFmqCS",
        "outputId": "c1f18f5a-3554-47c4-ab2a-b0f17d4e2a24"
      },
      "execution_count": null,
      "outputs": [
        {
          "output_type": "stream",
          "name": "stdout",
          "text": [
            "(55000, 80) (55000,)\n"
          ]
        }
      ]
    },
    {
      "cell_type": "markdown",
      "source": [
        "## different training set size\n",
        "Observation: the accuracy of the final classification increase significantly when training size increases from 0 to about 10000, however, the differernce between 10000 and full size are not that differernt (0.976 vs 0.988)"
      ],
      "metadata": {
        "id": "j0mRgZlAnfaz"
      }
    },
    {
      "cell_type": "code",
      "source": [
        "# different size of labelled data\n",
        "acc = []\n",
        "for i in [100, 1000, 10000, 55000]:\n",
        "  acc.append(SVC_train(encoded_X_train.detach().numpy()[:i-1], y_train[:i-1], encoded_X_val.detach().numpy(), y_val, False))\n",
        ""
      ],
      "metadata": {
        "colab": {
          "base_uri": "https://localhost:8080/"
        },
        "id": "8k9fbIBwl6T9",
        "outputId": "6a119fff-fce7-433a-fc35-cef570aa5da5"
      },
      "execution_count": null,
      "outputs": [
        {
          "output_type": "stream",
          "name": "stdout",
          "text": [
            "Accuracy: 0.7706\n",
            "Accuracy: 0.9462\n",
            "Accuracy: 0.976\n",
            "Accuracy: 0.988\n"
          ]
        }
      ]
    },
    {
      "cell_type": "code",
      "source": [
        "plt.plot([100, 1000, 10000, 55000], acc)\n",
        "plt.xlabel(\"size of training set\")\n",
        "plt.ylabel(\"accuracy\")"
      ],
      "metadata": {
        "colab": {
          "base_uri": "https://localhost:8080/",
          "height": 467
        },
        "id": "0EOCi4ZKm6lu",
        "outputId": "28c5f785-ffe4-4d7e-bafc-ae151852a1fd"
      },
      "execution_count": null,
      "outputs": [
        {
          "output_type": "execute_result",
          "data": {
            "text/plain": [
              "Text(0, 0.5, 'accuracy')"
            ]
          },
          "metadata": {},
          "execution_count": 199
        },
        {
          "output_type": "display_data",
          "data": {
            "text/plain": [
              "<Figure size 640x480 with 1 Axes>"
            ],
            "image/png": "[encoded data removed]"
          },
          "metadata": {}
        }
      ]
    },
    {
      "cell_type": "markdown",
      "source": [
        "# h (generative model)\n",
        "I use hidden dimension = 1024 and z dimension = 40 (20 will also work)\n",
        "\n",
        "Observation: k = 100 has slightly better performance than k = 10 but generally there's not that much differernce of the final accuracy rate (comparing between k = 500 and k = 10, the former is supposed to have higher accuracy rate). The training and classification time, though, increases significantly with higher k."
      ],
      "metadata": {
        "id": "9Y8QHumnN3XO"
      }
    },
    {
      "cell_type": "code",
      "source": [
        "# train_loader = DataLoader(train_ds, batch_size=1, shuffle=True)\n",
        "# for i, (x, y) in enumerate(train_loader):\n",
        "#   if i > 1:\n",
        "#     break\n",
        "#   print(x.detach().numpy())\n",
        "#   print(y.item())"
      ],
      "metadata": {
        "id": "7s47Z-Tnroyk"
      },
      "execution_count": null,
      "outputs": []
    },
    {
      "cell_type": "code",
      "source": [
        "# create 10 dataset\n",
        "def separate(ds, batch_size): #return 10 dataloader\n",
        "  dataloader = DataLoader(ds, batch_size=1, shuffle=True)\n",
        "  dic = {_: [] for _ in range(10)}\n",
        "  for x, y in dataloader:\n",
        "    dic[y.item()].append(x.detach().numpy())\n",
        "  for i in range(10):\n",
        "    x = np.stack(dic[i])\n",
        "    y = np.full(len(dic[i]), i)\n",
        "    ds = TensorDataset(torch.Tensor(x), torch.LongTensor(y))\n",
        "    class_loader = DataLoader(ds, batch_size=batch_size, shuffle=True)\n",
        "    dic[i] = class_loader\n",
        "  return dic\n",
        "\n"
      ],
      "metadata": {
        "id": "yFVCdPRyrMTY"
      },
      "execution_count": null,
      "outputs": []
    },
    {
      "cell_type": "code",
      "source": [
        "# train and store 10 models\n",
        "def VAE_train_10(train_ds, vali_ds, p = True, h_dim = 200, z_dim = 20, input_dim = 784, learning_rate = .001, batch_size = 1000, epoch = 20):\n",
        "  train_loader = DataLoader(train_ds, batch_size=batch_size, shuffle=True)\n",
        "  val_loader = DataLoader(val_ds, batch_size=batch_size, shuffle=False)\n",
        "  dic_tr = separate(train_ds, batch_size)\n",
        "  dic_val = separate(val_ds, batch_size)\n",
        "  ms = []\n",
        "  for char in range(10):\n",
        "    tr_loss, vali_loss  = [], []\n",
        "    model = VAE(input_dim, h_dim, z_dim).to(device)\n",
        "    optimizer = optim.Adam(model.parameters(), lr = learning_rate)\n",
        "\n",
        "    if p:\n",
        "      print(f\"start training group {char}...\")\n",
        "\n",
        "    for i in range(epoch):\n",
        "      train_loss = 0\n",
        "      for x, y in dic_tr[char]:\n",
        "        optimizer.zero_grad()\n",
        "        new_x, mu, sig = model(x)\n",
        "        loss = VAE_loss(x, new_x, mu, sig)\n",
        "        loss.backward()\n",
        "        train_loss += loss.item()\n",
        "        optimizer.step()\n",
        "      new_trl = train_loss/len(train_loader.dataset)\n",
        "      tr_loss.append(new_trl)\n",
        "\n",
        "      model.eval()\n",
        "      new_vl = 0\n",
        "      with torch.no_grad():\n",
        "          for x, y in dic_val[char]:\n",
        "              new_x, mu, log_var = model(x)\n",
        "              loss = VAE_loss(x, new_x, mu, log_var)\n",
        "              new_vl += loss.item()\n",
        "      new_vl /= len(val_loader.dataset)\n",
        "      vali_loss.append(new_vl)\n",
        "      if p:\n",
        "        print('Training set epoch {}: Avg. train loss: {:.4f}, Avg. validation loss: {:.4f}'.format(i,\n",
        "      new_trl, new_vl))\n",
        "    ms.append(model)\n",
        "\n",
        "\n",
        "    if not os.path.isdir(os.path.join(datadir,'tmp')):\n",
        "      os.mkdir(os.path.join(datadir,'tmp'))\n",
        "    torch.save(model.state_dict(), f'{datadir}final_model_{char}.pth')\n",
        "  return ms\n",
        "\n",
        "\n"
      ],
      "metadata": {
        "id": "qh64y9bAN4gb"
      },
      "execution_count": null,
      "outputs": []
    },
    {
      "cell_type": "code",
      "source": [
        "ms = VAE_train_10(train_ds, val_ds, p = True, h_dim = 1024, z_dim = 40, input_dim = 784, batch_size = 1000, epoch = 20)\n"
      ],
      "metadata": {
        "id": "AKdfyyVuPiIC",
        "colab": {
          "base_uri": "https://localhost:8080/"
        },
        "outputId": "55a869db-4442-4cd9-ec59-0ae565bc351c"
      },
      "execution_count": null,
      "outputs": [
        {
          "output_type": "stream",
          "name": "stdout",
          "text": [
            "start training group 0...\n",
            "Training set epoch 0: Avg. train loss: 49.7625, Avg. validation loss: 29.5013\n",
            "Training set epoch 1: Avg. train loss: 27.7313, Avg. validation loss: 26.6937\n",
            "Training set epoch 2: Avg. train loss: 23.6743, Avg. validation loss: 23.0626\n",
            "Training set epoch 3: Avg. train loss: 21.8367, Avg. validation loss: 22.0331\n",
            "Training set epoch 4: Avg. train loss: 21.0251, Avg. validation loss: 21.1028\n",
            "Training set epoch 5: Avg. train loss: 20.0750, Avg. validation loss: 20.4459\n",
            "Training set epoch 6: Avg. train loss: 19.2153, Avg. validation loss: 19.6076\n",
            "Training set epoch 7: Avg. train loss: 18.4951, Avg. validation loss: 18.9574\n",
            "Training set epoch 8: Avg. train loss: 17.8357, Avg. validation loss: 18.2725\n",
            "Training set epoch 9: Avg. train loss: 17.1770, Avg. validation loss: 17.7881\n",
            "Training set epoch 10: Avg. train loss: 16.8332, Avg. validation loss: 17.3732\n",
            "Training set epoch 11: Avg. train loss: 16.4905, Avg. validation loss: 17.0241\n",
            "Training set epoch 12: Avg. train loss: 16.1890, Avg. validation loss: 16.8237\n",
            "Training set epoch 13: Avg. train loss: 15.9458, Avg. validation loss: 16.5433\n",
            "Training set epoch 14: Avg. train loss: 15.7275, Avg. validation loss: 16.3322\n",
            "Training set epoch 15: Avg. train loss: 15.5188, Avg. validation loss: 16.0770\n",
            "Training set epoch 16: Avg. train loss: 15.3057, Avg. validation loss: 16.0142\n",
            "Training set epoch 17: Avg. train loss: 15.0949, Avg. validation loss: 15.6292\n",
            "Training set epoch 18: Avg. train loss: 14.8776, Avg. validation loss: 15.4086\n",
            "Training set epoch 19: Avg. train loss: 14.6418, Avg. validation loss: 15.1705\n",
            "start training group 1...\n",
            "Training set epoch 0: Avg. train loss: 57.8561, Avg. validation loss: 23.4926\n",
            "Training set epoch 1: Avg. train loss: 19.1726, Avg. validation loss: 19.1905\n",
            "Training set epoch 2: Avg. train loss: 16.0900, Avg. validation loss: 14.5619\n",
            "Training set epoch 3: Avg. train loss: 12.8232, Avg. validation loss: 11.6491\n",
            "Training set epoch 4: Avg. train loss: 11.0286, Avg. validation loss: 10.5715\n",
            "Training set epoch 5: Avg. train loss: 10.1274, Avg. validation loss: 9.9650\n",
            "Training set epoch 6: Avg. train loss: 9.5542, Avg. validation loss: 9.4423\n",
            "Training set epoch 7: Avg. train loss: 9.1406, Avg. validation loss: 9.0973\n",
            "Training set epoch 8: Avg. train loss: 8.8598, Avg. validation loss: 8.7695\n",
            "Training set epoch 9: Avg. train loss: 8.6022, Avg. validation loss: 8.6029\n",
            "Training set epoch 10: Avg. train loss: 8.4099, Avg. validation loss: 8.3958\n",
            "Training set epoch 11: Avg. train loss: 8.2456, Avg. validation loss: 8.2362\n",
            "Training set epoch 12: Avg. train loss: 8.1647, Avg. validation loss: 8.1738\n",
            "Training set epoch 13: Avg. train loss: 8.0548, Avg. validation loss: 8.0317\n",
            "Training set epoch 14: Avg. train loss: 7.9369, Avg. validation loss: 7.9131\n",
            "Training set epoch 15: Avg. train loss: 7.8184, Avg. validation loss: 7.7396\n",
            "Training set epoch 16: Avg. train loss: 7.6915, Avg. validation loss: 7.6639\n",
            "Training set epoch 17: Avg. train loss: 7.5902, Avg. validation loss: 7.4871\n",
            "Training set epoch 18: Avg. train loss: 7.4793, Avg. validation loss: 7.3607\n",
            "Training set epoch 19: Avg. train loss: 7.3821, Avg. validation loss: 7.3402\n",
            "start training group 2...\n",
            "Training set epoch 0: Avg. train loss: 50.3678, Avg. validation loss: 29.2591\n",
            "Training set epoch 1: Avg. train loss: 28.2027, Avg. validation loss: 26.8524\n",
            "Training set epoch 2: Avg. train loss: 24.1140, Avg. validation loss: 23.0264\n",
            "Training set epoch 3: Avg. train loss: 22.5860, Avg. validation loss: 22.4057\n",
            "Training set epoch 4: Avg. train loss: 21.8886, Avg. validation loss: 21.9960\n",
            "Training set epoch 5: Avg. train loss: 21.2777, Avg. validation loss: 21.5048\n",
            "Training set epoch 6: Avg. train loss: 20.9486, Avg. validation loss: 21.2709\n",
            "Training set epoch 7: Avg. train loss: 20.6537, Avg. validation loss: 20.8498\n",
            "Training set epoch 8: Avg. train loss: 20.2233, Avg. validation loss: 20.3478\n",
            "Training set epoch 9: Avg. train loss: 19.7079, Avg. validation loss: 19.8422\n",
            "Training set epoch 10: Avg. train loss: 19.2640, Avg. validation loss: 19.4935\n",
            "Training set epoch 11: Avg. train loss: 18.8896, Avg. validation loss: 19.0242\n",
            "Training set epoch 12: Avg. train loss: 18.4739, Avg. validation loss: 18.6223\n",
            "Training set epoch 13: Avg. train loss: 18.1143, Avg. validation loss: 18.2568\n",
            "Training set epoch 14: Avg. train loss: 17.7777, Avg. validation loss: 17.8898\n",
            "Training set epoch 15: Avg. train loss: 17.4492, Avg. validation loss: 17.6553\n",
            "Training set epoch 16: Avg. train loss: 17.0933, Avg. validation loss: 17.1887\n",
            "Training set epoch 17: Avg. train loss: 16.7441, Avg. validation loss: 16.7568\n",
            "Training set epoch 18: Avg. train loss: 16.3968, Avg. validation loss: 16.5036\n",
            "Training set epoch 19: Avg. train loss: 16.1454, Avg. validation loss: 16.2238\n",
            "start training group 3...\n",
            "Training set epoch 0: Avg. train loss: 49.3793, Avg. validation loss: 30.1591\n",
            "Training set epoch 1: Avg. train loss: 27.7898, Avg. validation loss: 24.5473\n",
            "Training set epoch 2: Avg. train loss: 22.7740, Avg. validation loss: 21.5847\n",
            "Training set epoch 3: Avg. train loss: 21.3011, Avg. validation loss: 20.7456\n",
            "Training set epoch 4: Avg. train loss: 20.3830, Avg. validation loss: 20.3991\n",
            "Training set epoch 5: Avg. train loss: 19.8073, Avg. validation loss: 19.7666\n",
            "Training set epoch 6: Avg. train loss: 19.5109, Avg. validation loss: 19.5611\n",
            "Training set epoch 7: Avg. train loss: 19.1951, Avg. validation loss: 19.1823\n",
            "Training set epoch 8: Avg. train loss: 18.7559, Avg. validation loss: 18.7146\n",
            "Training set epoch 9: Avg. train loss: 18.1929, Avg. validation loss: 17.9885\n",
            "Training set epoch 10: Avg. train loss: 17.6222, Avg. validation loss: 17.5357\n",
            "Training set epoch 11: Avg. train loss: 17.1283, Avg. validation loss: 17.0330\n",
            "Training set epoch 12: Avg. train loss: 16.7065, Avg. validation loss: 16.7035\n",
            "Training set epoch 13: Avg. train loss: 16.4133, Avg. validation loss: 16.4535\n",
            "Training set epoch 14: Avg. train loss: 16.1541, Avg. validation loss: 16.1783\n",
            "Training set epoch 15: Avg. train loss: 15.9357, Avg. validation loss: 15.9073\n",
            "Training set epoch 16: Avg. train loss: 15.6942, Avg. validation loss: 15.7740\n",
            "Training set epoch 17: Avg. train loss: 15.5052, Avg. validation loss: 15.6506\n",
            "Training set epoch 18: Avg. train loss: 15.3713, Avg. validation loss: 15.4704\n",
            "Training set epoch 19: Avg. train loss: 15.2071, Avg. validation loss: 15.3493\n",
            "start training group 4...\n",
            "Training set epoch 0: Avg. train loss: 51.5960, Avg. validation loss: 26.5857\n",
            "Training set epoch 1: Avg. train loss: 25.0766, Avg. validation loss: 22.9852\n",
            "Training set epoch 2: Avg. train loss: 21.5488, Avg. validation loss: 19.4953\n",
            "Training set epoch 3: Avg. train loss: 19.3627, Avg. validation loss: 18.1512\n",
            "Training set epoch 4: Avg. train loss: 18.5176, Avg. validation loss: 17.8103\n",
            "Training set epoch 5: Avg. train loss: 18.0353, Avg. validation loss: 17.3510\n",
            "Training set epoch 6: Avg. train loss: 17.6250, Avg. validation loss: 16.9741\n",
            "Training set epoch 7: Avg. train loss: 17.3464, Avg. validation loss: 16.8057\n",
            "Training set epoch 8: Avg. train loss: 17.0948, Avg. validation loss: 16.5669\n",
            "Training set epoch 9: Avg. train loss: 16.7610, Avg. validation loss: 16.1674\n",
            "Training set epoch 10: Avg. train loss: 16.3010, Avg. validation loss: 15.7184\n",
            "Training set epoch 11: Avg. train loss: 15.8416, Avg. validation loss: 15.1931\n",
            "Training set epoch 12: Avg. train loss: 15.3797, Avg. validation loss: 14.8405\n",
            "Training set epoch 13: Avg. train loss: 15.0752, Avg. validation loss: 14.5679\n",
            "Training set epoch 14: Avg. train loss: 14.8596, Avg. validation loss: 14.4707\n",
            "Training set epoch 15: Avg. train loss: 14.6388, Avg. validation loss: 14.1494\n",
            "Training set epoch 16: Avg. train loss: 14.3761, Avg. validation loss: 13.9576\n",
            "Training set epoch 17: Avg. train loss: 14.1075, Avg. validation loss: 13.7392\n",
            "Training set epoch 18: Avg. train loss: 13.8494, Avg. validation loss: 13.5107\n",
            "Training set epoch 19: Avg. train loss: 13.6209, Avg. validation loss: 13.2644\n",
            "start training group 5...\n",
            "Training set epoch 0: Avg. train loss: 48.7054, Avg. validation loss: 29.5874\n",
            "Training set epoch 1: Avg. train loss: 26.1278, Avg. validation loss: 24.9805\n",
            "Training set epoch 2: Avg. train loss: 23.0535, Avg. validation loss: 20.7758\n",
            "Training set epoch 3: Avg. train loss: 20.2935, Avg. validation loss: 18.8858\n",
            "Training set epoch 4: Avg. train loss: 19.2562, Avg. validation loss: 18.3115\n",
            "Training set epoch 5: Avg. train loss: 18.7036, Avg. validation loss: 17.8551\n",
            "Training set epoch 6: Avg. train loss: 18.0839, Avg. validation loss: 17.0941\n",
            "Training set epoch 7: Avg. train loss: 17.4811, Avg. validation loss: 16.4281\n",
            "Training set epoch 8: Avg. train loss: 16.9291, Avg. validation loss: 15.8780\n",
            "Training set epoch 9: Avg. train loss: 16.5487, Avg. validation loss: 15.5720\n",
            "Training set epoch 10: Avg. train loss: 16.2050, Avg. validation loss: 15.1767\n",
            "Training set epoch 11: Avg. train loss: 15.9199, Avg. validation loss: 15.0270\n",
            "Training set epoch 12: Avg. train loss: 15.6216, Avg. validation loss: 14.6681\n",
            "Training set epoch 13: Avg. train loss: 15.3259, Avg. validation loss: 14.3902\n",
            "Training set epoch 14: Avg. train loss: 15.1131, Avg. validation loss: 14.1710\n",
            "Training set epoch 15: Avg. train loss: 14.8560, Avg. validation loss: 13.8384\n",
            "Training set epoch 16: Avg. train loss: 14.5942, Avg. validation loss: 13.7127\n",
            "Training set epoch 17: Avg. train loss: 14.3801, Avg. validation loss: 13.3448\n",
            "Training set epoch 18: Avg. train loss: 14.1552, Avg. validation loss: 13.1836\n",
            "Training set epoch 19: Avg. train loss: 13.9684, Avg. validation loss: 13.0356\n",
            "start training group 6...\n",
            "Training set epoch 0: Avg. train loss: 51.1987, Avg. validation loss: 26.9294\n",
            "Training set epoch 1: Avg. train loss: 26.0469, Avg. validation loss: 25.2168\n",
            "Training set epoch 2: Avg. train loss: 22.3614, Avg. validation loss: 20.7074\n",
            "Training set epoch 3: Avg. train loss: 20.0224, Avg. validation loss: 19.3167\n",
            "Training set epoch 4: Avg. train loss: 19.2020, Avg. validation loss: 18.6340\n",
            "Training set epoch 5: Avg. train loss: 18.2730, Avg. validation loss: 17.7593\n",
            "Training set epoch 6: Avg. train loss: 17.4215, Avg. validation loss: 16.9329\n",
            "Training set epoch 7: Avg. train loss: 16.7544, Avg. validation loss: 16.5556\n",
            "Training set epoch 8: Avg. train loss: 16.3354, Avg. validation loss: 16.2270\n",
            "Training set epoch 9: Avg. train loss: 15.9598, Avg. validation loss: 16.0136\n",
            "Training set epoch 10: Avg. train loss: 15.6323, Avg. validation loss: 15.7290\n",
            "Training set epoch 11: Avg. train loss: 15.3581, Avg. validation loss: 15.4039\n",
            "Training set epoch 12: Avg. train loss: 15.0944, Avg. validation loss: 15.1596\n",
            "Training set epoch 13: Avg. train loss: 14.8166, Avg. validation loss: 14.8303\n",
            "Training set epoch 14: Avg. train loss: 14.5000, Avg. validation loss: 14.4013\n",
            "Training set epoch 15: Avg. train loss: 14.3187, Avg. validation loss: 14.5314\n",
            "Training set epoch 16: Avg. train loss: 14.4159, Avg. validation loss: 14.5723\n",
            "Training set epoch 17: Avg. train loss: 14.3027, Avg. validation loss: 14.3704\n",
            "Training set epoch 18: Avg. train loss: 14.1112, Avg. validation loss: 14.0365\n",
            "Training set epoch 19: Avg. train loss: 13.8770, Avg. validation loss: 13.7615\n",
            "start training group 7...\n",
            "Training set epoch 0: Avg. train loss: 52.7490, Avg. validation loss: 25.1120\n",
            "Training set epoch 1: Avg. train loss: 24.7325, Avg. validation loss: 22.9195\n",
            "Training set epoch 2: Avg. train loss: 21.2655, Avg. validation loss: 18.5254\n",
            "Training set epoch 3: Avg. train loss: 18.7582, Avg. validation loss: 17.2213\n",
            "Training set epoch 4: Avg. train loss: 17.9405, Avg. validation loss: 16.6582\n",
            "Training set epoch 5: Avg. train loss: 17.3676, Avg. validation loss: 16.2414\n",
            "Training set epoch 6: Avg. train loss: 16.8731, Avg. validation loss: 15.7570\n",
            "Training set epoch 7: Avg. train loss: 16.4322, Avg. validation loss: 15.1793\n",
            "Training set epoch 8: Avg. train loss: 15.8976, Avg. validation loss: 14.6508\n",
            "Training set epoch 9: Avg. train loss: 15.4134, Avg. validation loss: 14.2933\n",
            "Training set epoch 10: Avg. train loss: 15.0281, Avg. validation loss: 13.9870\n",
            "Training set epoch 11: Avg. train loss: 14.6023, Avg. validation loss: 13.5899\n",
            "Training set epoch 12: Avg. train loss: 14.2649, Avg. validation loss: 13.2765\n",
            "Training set epoch 13: Avg. train loss: 13.9745, Avg. validation loss: 13.0380\n",
            "Training set epoch 14: Avg. train loss: 13.7149, Avg. validation loss: 12.7790\n",
            "Training set epoch 15: Avg. train loss: 13.4839, Avg. validation loss: 12.5862\n",
            "Training set epoch 16: Avg. train loss: 13.2610, Avg. validation loss: 12.3872\n",
            "Training set epoch 17: Avg. train loss: 13.0685, Avg. validation loss: 12.2809\n",
            "Training set epoch 18: Avg. train loss: 12.8653, Avg. validation loss: 12.1256\n",
            "Training set epoch 19: Avg. train loss: 12.6562, Avg. validation loss: 11.8523\n",
            "start training group 8...\n",
            "Training set epoch 0: Avg. train loss: 48.7708, Avg. validation loss: 26.7690\n",
            "Training set epoch 1: Avg. train loss: 26.3315, Avg. validation loss: 23.8320\n",
            "Training set epoch 2: Avg. train loss: 22.1293, Avg. validation loss: 20.5777\n",
            "Training set epoch 3: Avg. train loss: 20.5734, Avg. validation loss: 19.6558\n",
            "Training set epoch 4: Avg. train loss: 19.7617, Avg. validation loss: 19.1307\n",
            "Training set epoch 5: Avg. train loss: 19.1322, Avg. validation loss: 18.6464\n",
            "Training set epoch 6: Avg. train loss: 18.8262, Avg. validation loss: 18.3712\n",
            "Training set epoch 7: Avg. train loss: 18.5446, Avg. validation loss: 18.1415\n",
            "Training set epoch 8: Avg. train loss: 18.2041, Avg. validation loss: 17.6242\n",
            "Training set epoch 9: Avg. train loss: 17.7324, Avg. validation loss: 17.1945\n",
            "Training set epoch 10: Avg. train loss: 17.3509, Avg. validation loss: 16.8964\n",
            "Training set epoch 11: Avg. train loss: 17.0872, Avg. validation loss: 16.7020\n",
            "Training set epoch 12: Avg. train loss: 16.8308, Avg. validation loss: 16.4396\n",
            "Training set epoch 13: Avg. train loss: 16.6416, Avg. validation loss: 16.2738\n",
            "Training set epoch 14: Avg. train loss: 16.4802, Avg. validation loss: 16.2063\n",
            "Training set epoch 15: Avg. train loss: 16.3183, Avg. validation loss: 16.0152\n",
            "Training set epoch 16: Avg. train loss: 16.1393, Avg. validation loss: 15.8431\n",
            "Training set epoch 17: Avg. train loss: 15.9348, Avg. validation loss: 15.5631\n",
            "Training set epoch 18: Avg. train loss: 15.7484, Avg. validation loss: 15.3611\n",
            "Training set epoch 19: Avg. train loss: 15.5486, Avg. validation loss: 15.2402\n",
            "start training group 9...\n",
            "Training set epoch 0: Avg. train loss: 50.0780, Avg. validation loss: 24.0659\n",
            "Training set epoch 1: Avg. train loss: 24.7446, Avg. validation loss: 21.4978\n",
            "Training set epoch 2: Avg. train loss: 20.4280, Avg. validation loss: 18.0087\n",
            "Training set epoch 3: Avg. train loss: 18.4937, Avg. validation loss: 16.7415\n",
            "Training set epoch 4: Avg. train loss: 17.6934, Avg. validation loss: 16.3244\n",
            "Training set epoch 5: Avg. train loss: 17.1539, Avg. validation loss: 15.7118\n",
            "Training set epoch 6: Avg. train loss: 16.7138, Avg. validation loss: 15.4323\n",
            "Training set epoch 7: Avg. train loss: 16.3115, Avg. validation loss: 15.1541\n",
            "Training set epoch 8: Avg. train loss: 15.8012, Avg. validation loss: 14.6567\n",
            "Training set epoch 9: Avg. train loss: 15.2440, Avg. validation loss: 14.3393\n",
            "Training set epoch 10: Avg. train loss: 14.8927, Avg. validation loss: 14.0615\n",
            "Training set epoch 11: Avg. train loss: 14.5377, Avg. validation loss: 13.7015\n",
            "Training set epoch 12: Avg. train loss: 14.2282, Avg. validation loss: 13.4638\n",
            "Training set epoch 13: Avg. train loss: 13.9708, Avg. validation loss: 13.2436\n",
            "Training set epoch 14: Avg. train loss: 13.7421, Avg. validation loss: 13.0217\n",
            "Training set epoch 15: Avg. train loss: 13.5378, Avg. validation loss: 12.7736\n",
            "Training set epoch 16: Avg. train loss: 13.3533, Avg. validation loss: 12.6406\n",
            "Training set epoch 17: Avg. train loss: 13.2195, Avg. validation loss: 12.4372\n",
            "Training set epoch 18: Avg. train loss: 13.0647, Avg. validation loss: 12.3582\n",
            "Training set epoch 19: Avg. train loss: 12.9200, Avg. validation loss: 12.2163\n"
          ]
        }
      ]
    },
    {
      "cell_type": "code",
      "source": [
        "# load trained model\n",
        "h_dim = 1024\n",
        "z_dim = 40\n",
        "input_dim = 784\n",
        "test_loader = DataLoader(test_ds, batch_size=1000, shuffle=False)\n",
        "\n",
        "dic = []\n",
        "for i in range(10):\n",
        "  model = VAE(input_dim, h_dim, z_dim).to(device)\n",
        "  dic.append(model.load_state_dict(torch.load(f'{datadir}final_model_{i}.pth')))"
      ],
      "metadata": {
        "id": "54-wnIZB80d9"
      },
      "execution_count": null,
      "outputs": []
    },
    {
      "cell_type": "code",
      "source": [
        "#classify with largest Q\n",
        "def test(ms):\n",
        "  with torch.no_grad():\n",
        "    for k in [10, 100]:\n",
        "      print(f\"========= test model with k = {k} =========\")\n",
        "      maxss = []\n",
        "      for j, (x,y) in enumerate(test_loader): #batch = 1000\n",
        "        correct = 0\n",
        "        qs = []\n",
        "        for i in range(10):\n",
        "          m = ms[i]\n",
        "          m.eval()\n",
        "          mu, sig = m.encode(x)\n",
        "          Q_k, Q_k_avg = Q(m, x, k, mu, sig)\n",
        "          qs.append(Q_k)\n",
        "        Q_stack = torch.stack(qs, dim=1)\n",
        "        pred = torch.argmax(Q_stack, dim=1) #take the class with largest Q value\n",
        "        correct = np.sum(pred.detach().numpy() == y.detach().numpy())\n",
        "        print(f\"for batch {j}, the accuracy rate is {correct/1000}\")\n"
      ],
      "metadata": {
        "id": "CJVl9mEzPiod"
      },
      "execution_count": null,
      "outputs": []
    },
    {
      "cell_type": "code",
      "source": [
        "test(ms) #I test directly with k=500 for supposedly more significant difference"
      ],
      "metadata": {
        "colab": {
          "base_uri": "https://localhost:8080/"
        },
        "id": "UVMDOVx9_Ue3",
        "outputId": "a1144c3c-688d-4bfb-c5ff-dae0af2be54c"
      },
      "execution_count": null,
      "outputs": [
        {
          "output_type": "stream",
          "name": "stdout",
          "text": [
            "========= test model with k = 10 =========\n",
            "for batch 0, the accuracy rate is 0.933\n",
            "for batch 1, the accuracy rate is 0.961\n",
            "for batch 2, the accuracy rate is 0.935\n",
            "for batch 3, the accuracy rate is 0.927\n",
            "for batch 4, the accuracy rate is 0.945\n",
            "for batch 5, the accuracy rate is 0.962\n",
            "for batch 6, the accuracy rate is 0.957\n",
            "for batch 7, the accuracy rate is 0.939\n",
            "for batch 8, the accuracy rate is 0.963\n",
            "for batch 9, the accuracy rate is 0.954\n",
            "========= test model with k = 500 =========\n",
            "for batch 0, the accuracy rate is 0.941\n",
            "for batch 1, the accuracy rate is 0.958\n",
            "for batch 2, the accuracy rate is 0.934\n",
            "for batch 3, the accuracy rate is 0.934\n",
            "for batch 4, the accuracy rate is 0.951\n",
            "for batch 5, the accuracy rate is 0.96\n",
            "for batch 6, the accuracy rate is 0.96\n",
            "for batch 7, the accuracy rate is 0.942\n",
            "for batch 8, the accuracy rate is 0.967\n",
            "for batch 9, the accuracy rate is 0.958\n"
          ]
        }
      ]
    },
    {
      "cell_type": "markdown",
      "source": [
        "## train with combined dataset and validate with test dataset\n",
        "Observation: Similar to the training vs validation, if we use all validation+training data to train and test with test ds, k = 100 has slightly better performance than k = 10.\n"
      ],
      "metadata": {
        "id": "ByL0HAfXpgTx"
      }
    },
    {
      "cell_type": "code",
      "source": [
        "(X_train, y_train), (X_val, y_val), (X_test, y_test), (X_comb, y_comb) = get_mnist()\n",
        "train_ds = TensorDataset(torch.Tensor(X_train), torch.LongTensor(y_train))\n",
        "test_ds = TensorDataset(torch.Tensor(X_test), torch.LongTensor(y_test))\n",
        "val_ds = TensorDataset(torch.Tensor(X_val), torch.LongTensor(y_val))\n",
        "comb_ds = TensorDataset(torch.Tensor(X_comb), torch.LongTensor(y_comb))\n",
        "\n",
        "print(\"Training set: \", X_train.shape, y_train.shape)\n",
        "print(\"Validation set: \", X_val.shape, y_val.shape)\n",
        "print(\"Combined set: \", X_comb.shape, y_comb.shape)\n",
        "print(\"Test set: \", X_test.shape, y_test.shape)"
      ],
      "metadata": {
        "colab": {
          "base_uri": "https://localhost:8080/"
        },
        "id": "amFtHNI5o1Xv",
        "outputId": "6bd3ff45-d465-4f9b-eece-38cd08561d6e"
      },
      "execution_count": null,
      "outputs": [
        {
          "output_type": "stream",
          "name": "stdout",
          "text": [
            "(70000, 784)\n",
            "Training set:  (55000, 784) (55000,)\n",
            "Validation set:  (5000, 784) (5000,)\n",
            "Combined set:  (60000, 784) (60000,)\n",
            "Test set:  (10000, 784) (10000,)\n"
          ]
        }
      ]
    },
    {
      "cell_type": "code",
      "source": [
        "ms = VAE_train_10(comb_ds, test_ds, p = True, h_dim = 1024, z_dim = 40, input_dim = 784, batch_size = 1000, epoch = 20)\n"
      ],
      "metadata": {
        "colab": {
          "base_uri": "https://localhost:8080/"
        },
        "id": "QoW8EbMRpmF0",
        "outputId": "e7c525f2-a879-4cc1-e85a-c320f46fbe71"
      },
      "execution_count": null,
      "outputs": [
        {
          "output_type": "stream",
          "name": "stdout",
          "text": [
            "start training group 0...\n",
            "Training set epoch 0: Avg. train loss: 46.6848, Avg. validation loss: 30.2221\n",
            "Training set epoch 1: Avg. train loss: 27.7628, Avg. validation loss: 25.9762\n",
            "Training set epoch 2: Avg. train loss: 23.2187, Avg. validation loss: 22.7103\n",
            "Training set epoch 3: Avg. train loss: 21.8602, Avg. validation loss: 21.8255\n",
            "Training set epoch 4: Avg. train loss: 20.9012, Avg. validation loss: 21.0752\n",
            "Training set epoch 5: Avg. train loss: 20.0378, Avg. validation loss: 20.2541\n",
            "Training set epoch 6: Avg. train loss: 19.2096, Avg. validation loss: 19.4142\n",
            "Training set epoch 7: Avg. train loss: 18.4966, Avg. validation loss: 18.6923\n",
            "Training set epoch 8: Avg. train loss: 17.7673, Avg. validation loss: 18.0561\n",
            "Training set epoch 9: Avg. train loss: 17.2303, Avg. validation loss: 17.7105\n",
            "Training set epoch 10: Avg. train loss: 16.8631, Avg. validation loss: 17.2962\n",
            "Training set epoch 11: Avg. train loss: 16.5942, Avg. validation loss: 17.0923\n",
            "Training set epoch 12: Avg. train loss: 16.3613, Avg. validation loss: 16.9249\n",
            "Training set epoch 13: Avg. train loss: 16.1086, Avg. validation loss: 16.5912\n",
            "Training set epoch 14: Avg. train loss: 15.8866, Avg. validation loss: 16.3878\n",
            "Training set epoch 15: Avg. train loss: 15.6982, Avg. validation loss: 16.1787\n",
            "Training set epoch 16: Avg. train loss: 15.4950, Avg. validation loss: 15.9405\n",
            "Training set epoch 17: Avg. train loss: 15.2782, Avg. validation loss: 15.7405\n",
            "Training set epoch 18: Avg. train loss: 15.0482, Avg. validation loss: 15.4225\n",
            "Training set epoch 19: Avg. train loss: 14.8396, Avg. validation loss: 15.4350\n",
            "start training group 1...\n",
            "Training set epoch 0: Avg. train loss: 52.4485, Avg. validation loss: 19.6686\n",
            "Training set epoch 1: Avg. train loss: 19.3573, Avg. validation loss: 19.2668\n",
            "Training set epoch 2: Avg. train loss: 15.3183, Avg. validation loss: 13.3658\n",
            "Training set epoch 3: Avg. train loss: 12.7104, Avg. validation loss: 12.5754\n",
            "Training set epoch 4: Avg. train loss: 11.8393, Avg. validation loss: 11.9137\n",
            "Training set epoch 5: Avg. train loss: 11.0613, Avg. validation loss: 10.8532\n",
            "Training set epoch 6: Avg. train loss: 10.0613, Avg. validation loss: 9.6941\n",
            "Training set epoch 7: Avg. train loss: 9.3950, Avg. validation loss: 9.1941\n",
            "Training set epoch 8: Avg. train loss: 9.0028, Avg. validation loss: 8.8643\n",
            "Training set epoch 9: Avg. train loss: 8.6509, Avg. validation loss: 8.4943\n",
            "Training set epoch 10: Avg. train loss: 8.3691, Avg. validation loss: 8.2481\n",
            "Training set epoch 11: Avg. train loss: 8.1687, Avg. validation loss: 8.1050\n",
            "Training set epoch 12: Avg. train loss: 8.0215, Avg. validation loss: 7.9139\n",
            "Training set epoch 13: Avg. train loss: 7.8978, Avg. validation loss: 7.8012\n",
            "Training set epoch 14: Avg. train loss: 7.7880, Avg. validation loss: 7.7000\n",
            "Training set epoch 15: Avg. train loss: 7.6599, Avg. validation loss: 7.5424\n",
            "Training set epoch 16: Avg. train loss: 7.5210, Avg. validation loss: 7.4549\n",
            "Training set epoch 17: Avg. train loss: 7.3926, Avg. validation loss: 7.2511\n",
            "Training set epoch 18: Avg. train loss: 7.2882, Avg. validation loss: 7.1936\n",
            "Training set epoch 19: Avg. train loss: 7.2039, Avg. validation loss: 7.0844\n",
            "start training group 2...\n",
            "Training set epoch 0: Avg. train loss: 49.0257, Avg. validation loss: 29.6571\n",
            "Training set epoch 1: Avg. train loss: 28.3420, Avg. validation loss: 26.7147\n",
            "Training set epoch 2: Avg. train loss: 23.9592, Avg. validation loss: 22.8791\n",
            "Training set epoch 3: Avg. train loss: 22.5947, Avg. validation loss: 22.2701\n",
            "Training set epoch 4: Avg. train loss: 21.8249, Avg. validation loss: 21.8797\n",
            "Training set epoch 5: Avg. train loss: 21.2190, Avg. validation loss: 21.3478\n",
            "Training set epoch 6: Avg. train loss: 20.9402, Avg. validation loss: 21.1413\n",
            "Training set epoch 7: Avg. train loss: 20.6072, Avg. validation loss: 20.6807\n",
            "Training set epoch 8: Avg. train loss: 20.1031, Avg. validation loss: 20.1244\n",
            "Training set epoch 9: Avg. train loss: 19.5936, Avg. validation loss: 19.6633\n",
            "Training set epoch 10: Avg. train loss: 19.2594, Avg. validation loss: 19.3501\n",
            "Training set epoch 11: Avg. train loss: 18.8845, Avg. validation loss: 18.8559\n",
            "Training set epoch 12: Avg. train loss: 18.4819, Avg. validation loss: 18.6038\n",
            "Training set epoch 13: Avg. train loss: 18.1429, Avg. validation loss: 18.1774\n",
            "Training set epoch 14: Avg. train loss: 17.7930, Avg. validation loss: 17.7802\n",
            "Training set epoch 15: Avg. train loss: 17.4362, Avg. validation loss: 17.3443\n",
            "Training set epoch 16: Avg. train loss: 17.0632, Avg. validation loss: 16.9853\n",
            "Training set epoch 17: Avg. train loss: 16.6922, Avg. validation loss: 16.5022\n",
            "Training set epoch 18: Avg. train loss: 16.3506, Avg. validation loss: 16.2115\n",
            "Training set epoch 19: Avg. train loss: 16.0791, Avg. validation loss: 15.9499\n",
            "start training group 3...\n",
            "Training set epoch 0: Avg. train loss: 49.7883, Avg. validation loss: 28.8599\n",
            "Training set epoch 1: Avg. train loss: 27.0218, Avg. validation loss: 23.7509\n",
            "Training set epoch 2: Avg. train loss: 22.3642, Avg. validation loss: 21.0160\n",
            "Training set epoch 3: Avg. train loss: 20.9276, Avg. validation loss: 20.7758\n",
            "Training set epoch 4: Avg. train loss: 20.2765, Avg. validation loss: 19.8680\n",
            "Training set epoch 5: Avg. train loss: 19.6740, Avg. validation loss: 19.5850\n",
            "Training set epoch 6: Avg. train loss: 19.3121, Avg. validation loss: 19.1473\n",
            "Training set epoch 7: Avg. train loss: 18.9378, Avg. validation loss: 18.6949\n",
            "Training set epoch 8: Avg. train loss: 18.4408, Avg. validation loss: 18.1988\n",
            "Training set epoch 9: Avg. train loss: 17.9710, Avg. validation loss: 17.7754\n",
            "Training set epoch 10: Avg. train loss: 17.5091, Avg. validation loss: 17.3183\n",
            "Training set epoch 11: Avg. train loss: 16.9933, Avg. validation loss: 16.8198\n",
            "Training set epoch 12: Avg. train loss: 16.5405, Avg. validation loss: 16.3133\n",
            "Training set epoch 13: Avg. train loss: 16.2513, Avg. validation loss: 16.1469\n",
            "Training set epoch 14: Avg. train loss: 16.0012, Avg. validation loss: 15.9615\n",
            "Training set epoch 15: Avg. train loss: 15.8131, Avg. validation loss: 15.7526\n",
            "Training set epoch 16: Avg. train loss: 15.6331, Avg. validation loss: 15.5763\n",
            "Training set epoch 17: Avg. train loss: 15.4577, Avg. validation loss: 15.4932\n",
            "Training set epoch 18: Avg. train loss: 15.3391, Avg. validation loss: 15.3918\n",
            "Training set epoch 19: Avg. train loss: 15.2255, Avg. validation loss: 15.2575\n",
            "start training group 4...\n",
            "Training set epoch 0: Avg. train loss: 49.8842, Avg. validation loss: 26.2149\n",
            "Training set epoch 1: Avg. train loss: 24.6385, Avg. validation loss: 22.6240\n",
            "Training set epoch 2: Avg. train loss: 21.3221, Avg. validation loss: 19.4237\n",
            "Training set epoch 3: Avg. train loss: 19.2055, Avg. validation loss: 18.0000\n",
            "Training set epoch 4: Avg. train loss: 18.4045, Avg. validation loss: 17.6464\n",
            "Training set epoch 5: Avg. train loss: 17.9877, Avg. validation loss: 17.1920\n",
            "Training set epoch 6: Avg. train loss: 17.5463, Avg. validation loss: 16.8182\n",
            "Training set epoch 7: Avg. train loss: 17.2196, Avg. validation loss: 16.6844\n",
            "Training set epoch 8: Avg. train loss: 16.9145, Avg. validation loss: 16.2366\n",
            "Training set epoch 9: Avg. train loss: 16.4777, Avg. validation loss: 15.7047\n",
            "Training set epoch 10: Avg. train loss: 15.9618, Avg. validation loss: 15.2434\n",
            "Training set epoch 11: Avg. train loss: 15.5121, Avg. validation loss: 14.7910\n",
            "Training set epoch 12: Avg. train loss: 15.1819, Avg. validation loss: 14.5928\n",
            "Training set epoch 13: Avg. train loss: 14.9377, Avg. validation loss: 14.3435\n",
            "Training set epoch 14: Avg. train loss: 14.7148, Avg. validation loss: 14.0719\n",
            "Training set epoch 15: Avg. train loss: 14.4663, Avg. validation loss: 13.8210\n",
            "Training set epoch 16: Avg. train loss: 14.1925, Avg. validation loss: 13.6652\n",
            "Training set epoch 17: Avg. train loss: 13.9232, Avg. validation loss: 13.2844\n",
            "Training set epoch 18: Avg. train loss: 13.6882, Avg. validation loss: 13.1223\n",
            "Training set epoch 19: Avg. train loss: 13.4321, Avg. validation loss: 12.8524\n",
            "start training group 5...\n",
            "Training set epoch 0: Avg. train loss: 46.7298, Avg. validation loss: 25.4819\n",
            "Training set epoch 1: Avg. train loss: 24.7260, Avg. validation loss: 22.1927\n",
            "Training set epoch 2: Avg. train loss: 21.0751, Avg. validation loss: 19.0893\n",
            "Training set epoch 3: Avg. train loss: 19.4136, Avg. validation loss: 18.2653\n",
            "Training set epoch 4: Avg. train loss: 18.6608, Avg. validation loss: 17.8625\n",
            "Training set epoch 5: Avg. train loss: 18.0729, Avg. validation loss: 17.0498\n",
            "Training set epoch 6: Avg. train loss: 17.4312, Avg. validation loss: 16.1830\n",
            "Training set epoch 7: Avg. train loss: 16.7306, Avg. validation loss: 15.5706\n",
            "Training set epoch 8: Avg. train loss: 16.2547, Avg. validation loss: 15.0487\n",
            "Training set epoch 9: Avg. train loss: 15.8455, Avg. validation loss: 14.8564\n",
            "Training set epoch 10: Avg. train loss: 15.5437, Avg. validation loss: 14.5280\n",
            "Training set epoch 11: Avg. train loss: 15.2901, Avg. validation loss: 14.2441\n",
            "Training set epoch 12: Avg. train loss: 15.0668, Avg. validation loss: 14.0681\n",
            "Training set epoch 13: Avg. train loss: 14.8595, Avg. validation loss: 13.8931\n",
            "Training set epoch 14: Avg. train loss: 14.6112, Avg. validation loss: 13.6738\n",
            "Training set epoch 15: Avg. train loss: 14.3242, Avg. validation loss: 13.3374\n",
            "Training set epoch 16: Avg. train loss: 14.0624, Avg. validation loss: 13.0125\n",
            "Training set epoch 17: Avg. train loss: 13.8618, Avg. validation loss: 12.9036\n",
            "Training set epoch 18: Avg. train loss: 13.7056, Avg. validation loss: 12.7706\n",
            "Training set epoch 19: Avg. train loss: 13.5792, Avg. validation loss: 12.6292\n",
            "start training group 6...\n",
            "Training set epoch 0: Avg. train loss: 48.6544, Avg. validation loss: 25.7641\n",
            "Training set epoch 1: Avg. train loss: 25.6955, Avg. validation loss: 24.3243\n",
            "Training set epoch 2: Avg. train loss: 21.4020, Avg. validation loss: 19.6694\n",
            "Training set epoch 3: Avg. train loss: 19.5538, Avg. validation loss: 18.7448\n",
            "Training set epoch 4: Avg. train loss: 18.8129, Avg. validation loss: 18.3172\n",
            "Training set epoch 5: Avg. train loss: 18.0589, Avg. validation loss: 17.5559\n",
            "Training set epoch 6: Avg. train loss: 17.4128, Avg. validation loss: 17.0486\n",
            "Training set epoch 7: Avg. train loss: 16.7479, Avg. validation loss: 16.3847\n",
            "Training set epoch 8: Avg. train loss: 16.2142, Avg. validation loss: 16.0523\n",
            "Training set epoch 9: Avg. train loss: 15.8267, Avg. validation loss: 15.6019\n",
            "Training set epoch 10: Avg. train loss: 15.4563, Avg. validation loss: 15.3167\n",
            "Training set epoch 11: Avg. train loss: 15.1283, Avg. validation loss: 14.9980\n",
            "Training set epoch 12: Avg. train loss: 14.7666, Avg. validation loss: 14.5496\n",
            "Training set epoch 13: Avg. train loss: 14.4585, Avg. validation loss: 14.2014\n",
            "Training set epoch 14: Avg. train loss: 14.2188, Avg. validation loss: 14.0215\n",
            "Training set epoch 15: Avg. train loss: 14.0451, Avg. validation loss: 13.8727\n",
            "Training set epoch 16: Avg. train loss: 13.8733, Avg. validation loss: 13.7129\n",
            "Training set epoch 17: Avg. train loss: 13.7154, Avg. validation loss: 13.4849\n",
            "Training set epoch 18: Avg. train loss: 13.5489, Avg. validation loss: 13.2632\n",
            "Training set epoch 19: Avg. train loss: 13.3651, Avg. validation loss: 13.1138\n",
            "start training group 7...\n",
            "Training set epoch 0: Avg. train loss: 47.8873, Avg. validation loss: 25.9876\n",
            "Training set epoch 1: Avg. train loss: 25.0215, Avg. validation loss: 19.4405\n",
            "Training set epoch 2: Avg. train loss: 19.6226, Avg. validation loss: 17.7154\n",
            "Training set epoch 3: Avg. train loss: 18.1355, Avg. validation loss: 16.9175\n",
            "Training set epoch 4: Avg. train loss: 17.4999, Avg. validation loss: 16.0406\n",
            "Training set epoch 5: Avg. train loss: 16.9192, Avg. validation loss: 15.8356\n",
            "Training set epoch 6: Avg. train loss: 16.5795, Avg. validation loss: 15.4455\n",
            "Training set epoch 7: Avg. train loss: 16.1277, Avg. validation loss: 14.8441\n",
            "Training set epoch 8: Avg. train loss: 15.5302, Avg. validation loss: 14.3166\n",
            "Training set epoch 9: Avg. train loss: 15.0360, Avg. validation loss: 13.9299\n",
            "Training set epoch 10: Avg. train loss: 14.5600, Avg. validation loss: 13.4963\n",
            "Training set epoch 11: Avg. train loss: 14.0893, Avg. validation loss: 13.0702\n",
            "Training set epoch 12: Avg. train loss: 13.7377, Avg. validation loss: 12.7438\n",
            "Training set epoch 13: Avg. train loss: 13.4020, Avg. validation loss: 12.4852\n",
            "Training set epoch 14: Avg. train loss: 13.1723, Avg. validation loss: 12.3133\n",
            "Training set epoch 15: Avg. train loss: 12.9286, Avg. validation loss: 12.0390\n",
            "Training set epoch 16: Avg. train loss: 12.7173, Avg. validation loss: 11.8535\n",
            "Training set epoch 17: Avg. train loss: 12.4985, Avg. validation loss: 11.6918\n",
            "Training set epoch 18: Avg. train loss: 12.3052, Avg. validation loss: 11.4826\n",
            "Training set epoch 19: Avg. train loss: 12.1353, Avg. validation loss: 11.2952\n",
            "start training group 8...\n",
            "Training set epoch 0: Avg. train loss: 48.0899, Avg. validation loss: 26.1950\n",
            "Training set epoch 1: Avg. train loss: 25.9263, Avg. validation loss: 24.5086\n",
            "Training set epoch 2: Avg. train loss: 22.4728, Avg. validation loss: 20.6678\n",
            "Training set epoch 3: Avg. train loss: 20.5841, Avg. validation loss: 19.8333\n",
            "Training set epoch 4: Avg. train loss: 19.9543, Avg. validation loss: 19.3123\n",
            "Training set epoch 5: Avg. train loss: 19.3323, Avg. validation loss: 18.8071\n",
            "Training set epoch 6: Avg. train loss: 18.9537, Avg. validation loss: 18.4541\n",
            "Training set epoch 7: Avg. train loss: 18.6384, Avg. validation loss: 18.0901\n",
            "Training set epoch 8: Avg. train loss: 18.2170, Avg. validation loss: 17.6718\n",
            "Training set epoch 9: Avg. train loss: 17.7665, Avg. validation loss: 17.2289\n",
            "Training set epoch 10: Avg. train loss: 17.4017, Avg. validation loss: 16.9828\n",
            "Training set epoch 11: Avg. train loss: 17.1410, Avg. validation loss: 16.7692\n",
            "Training set epoch 12: Avg. train loss: 16.8724, Avg. validation loss: 16.4696\n",
            "Training set epoch 13: Avg. train loss: 16.6462, Avg. validation loss: 16.2309\n",
            "Training set epoch 14: Avg. train loss: 16.4292, Avg. validation loss: 16.1468\n",
            "Training set epoch 15: Avg. train loss: 16.3249, Avg. validation loss: 15.9928\n",
            "Training set epoch 16: Avg. train loss: 16.1839, Avg. validation loss: 15.8368\n",
            "Training set epoch 17: Avg. train loss: 15.9522, Avg. validation loss: 15.5266\n",
            "Training set epoch 18: Avg. train loss: 15.6933, Avg. validation loss: 15.3002\n",
            "Training set epoch 19: Avg. train loss: 15.4751, Avg. validation loss: 15.1191\n",
            "start training group 9...\n",
            "Training set epoch 0: Avg. train loss: 47.7365, Avg. validation loss: 23.4212\n",
            "Training set epoch 1: Avg. train loss: 24.8142, Avg. validation loss: 21.7627\n",
            "Training set epoch 2: Avg. train loss: 20.3331, Avg. validation loss: 17.8329\n",
            "Training set epoch 3: Avg. train loss: 18.4440, Avg. validation loss: 16.6291\n",
            "Training set epoch 4: Avg. train loss: 17.6459, Avg. validation loss: 16.2890\n",
            "Training set epoch 5: Avg. train loss: 17.0470, Avg. validation loss: 15.6266\n",
            "Training set epoch 6: Avg. train loss: 16.5765, Avg. validation loss: 15.4003\n",
            "Training set epoch 7: Avg. train loss: 16.1916, Avg. validation loss: 15.0143\n",
            "Training set epoch 8: Avg. train loss: 15.6913, Avg. validation loss: 14.6061\n",
            "Training set epoch 9: Avg. train loss: 15.1947, Avg. validation loss: 14.3074\n",
            "Training set epoch 10: Avg. train loss: 14.8361, Avg. validation loss: 13.9740\n",
            "Training set epoch 11: Avg. train loss: 14.4422, Avg. validation loss: 13.6024\n",
            "Training set epoch 12: Avg. train loss: 14.1201, Avg. validation loss: 13.2565\n",
            "Training set epoch 13: Avg. train loss: 13.8321, Avg. validation loss: 13.0650\n",
            "Training set epoch 14: Avg. train loss: 13.5678, Avg. validation loss: 12.7484\n",
            "Training set epoch 15: Avg. train loss: 13.3765, Avg. validation loss: 12.5122\n",
            "Training set epoch 16: Avg. train loss: 13.2010, Avg. validation loss: 12.3835\n",
            "Training set epoch 17: Avg. train loss: 13.0787, Avg. validation loss: 12.2821\n",
            "Training set epoch 18: Avg. train loss: 12.9498, Avg. validation loss: 12.1428\n",
            "Training set epoch 19: Avg. train loss: 12.8356, Avg. validation loss: 12.0834\n"
          ]
        }
      ]
    },
    {
      "cell_type": "code",
      "source": [
        "test(ms)"
      ],
      "metadata": {
        "colab": {
          "base_uri": "https://localhost:8080/"
        },
        "id": "mkDyBd3dpypx",
        "outputId": "f7d487d1-9576-43ab-d959-1ec3be023b9a"
      },
      "execution_count": null,
      "outputs": [
        {
          "output_type": "stream",
          "name": "stdout",
          "text": [
            "========= test model with k = 10 =========\n",
            "for batch 0, the accuracy rate is 0.939\n",
            "for batch 1, the accuracy rate is 0.961\n",
            "for batch 2, the accuracy rate is 0.934\n",
            "for batch 3, the accuracy rate is 0.943\n",
            "for batch 4, the accuracy rate is 0.952\n",
            "for batch 5, the accuracy rate is 0.963\n",
            "for batch 6, the accuracy rate is 0.957\n",
            "for batch 7, the accuracy rate is 0.948\n",
            "for batch 8, the accuracy rate is 0.965\n",
            "for batch 9, the accuracy rate is 0.965\n",
            "========= test model with k = 100 =========\n",
            "for batch 0, the accuracy rate is 0.936\n",
            "for batch 1, the accuracy rate is 0.963\n",
            "for batch 2, the accuracy rate is 0.937\n",
            "for batch 3, the accuracy rate is 0.943\n",
            "for batch 4, the accuracy rate is 0.956\n",
            "for batch 5, the accuracy rate is 0.962\n",
            "for batch 6, the accuracy rate is 0.966\n",
            "for batch 7, the accuracy rate is 0.956\n",
            "for batch 8, the accuracy rate is 0.967\n",
            "for batch 9, the accuracy rate is 0.966\n"
          ]
        }
      ]
    }
  ]
}
